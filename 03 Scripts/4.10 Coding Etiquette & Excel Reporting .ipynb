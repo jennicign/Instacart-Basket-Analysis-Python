{
 "cells": [
  {
   "cell_type": "markdown",
   "id": "3170fb0c-3cbf-4709-afe7-16c7727bde8b",
   "metadata": {},
   "source": [
    "# 4.10 Coding Etiquette & Excel Reporting"
   ]
  },
  {
   "cell_type": "markdown",
   "id": "8342189c-87b0-443d-bb12-5f07c6c9813c",
   "metadata": {},
   "source": [
    "## Contents:"
   ]
  },
  {
   "cell_type": "markdown",
   "id": "69c00be2-54a4-41fb-b201-b5ffbb6855eb",
   "metadata": {},
   "source": [
    "### Importing libraries and dataframes"
   ]
  },
  {
   "cell_type": "markdown",
   "id": "4bae9e1f-e3c5-4c29-8f74-d179ef9134cd",
   "metadata": {},
   "source": [
    "### Creating Crosstabs in Python"
   ]
  },
  {
   "cell_type": "markdown",
   "id": "94b763ea-fef6-4fbf-b799-ec9e67d898b5",
   "metadata": {},
   "source": [
    "## Importing libraries and dataframes"
   ]
  },
  {
   "cell_type": "code",
   "execution_count": 1,
   "id": "7056e978-a4e6-4441-af86-313d344bf2ce",
   "metadata": {},
   "outputs": [],
   "source": [
    "# Import libraries\n",
    "\n",
    "import pandas as pd\n",
    "import numpy as np\n",
    "import os\n",
    "import matplotlib.pyplot as plt\n",
    "import seaborn as sns\n",
    "import scipy"
   ]
  },
  {
   "cell_type": "code",
   "execution_count": 2,
   "id": "26de4844-b71c-4e63-bd98-0d6f0635da4a",
   "metadata": {},
   "outputs": [],
   "source": [
    "# Import dataframes\n",
    "\n",
    "path = r'C:\\Users\\jenci\\Documents\\Data Analytics\\Python Fundamentals for Data Analysts\\04-2024 Instacart Basket Analysis'\n",
    "df_ords_prods_cust_merge = pd.read_pickle(os.path.join(path, '02 Data', 'Prepared Data', 'ords_prods_customers_merged.pkl'))"
   ]
  },
  {
   "cell_type": "code",
   "execution_count": 3,
   "id": "670301ab-fca5-42f6-bc58-35531ab793a8",
   "metadata": {},
   "outputs": [
    {
     "data": {
      "text/plain": [
       "(32434212, 32)"
      ]
     },
     "execution_count": 3,
     "metadata": {},
     "output_type": "execute_result"
    }
   ],
   "source": [
    "# Check output\n",
    "\n",
    "df_ords_prods_cust_merge.shape"
   ]
  },
  {
   "cell_type": "markdown",
   "id": "a445d93d-b0fa-47bf-b632-77891d388589",
   "metadata": {},
   "source": [
    "## Creating Crosstabs in Python"
   ]
  },
  {
   "cell_type": "code",
   "execution_count": 4,
   "id": "c684491a-0c73-4a00-8848-9373cd4f567f",
   "metadata": {},
   "outputs": [],
   "source": [
    "# Create a crosstab\n",
    "\n",
    "crosstab = pd.crosstab(df_ords_prods_cust_merge['days_since_prior_order'],df_ords_prods_cust_merge['order_number'], dropna = False)"
   ]
  },
  {
   "cell_type": "code",
   "execution_count": 5,
   "id": "2de6692e-8f73-40e2-8b8e-837930c1eec0",
   "metadata": {},
   "outputs": [],
   "source": [
    "# Copy the table to clipboard\n",
    "\n",
    "crosstab.to_clipboard()"
   ]
  },
  {
   "cell_type": "code",
   "execution_count": null,
   "id": "86456546-f71a-414a-8965-5177b8f4f298",
   "metadata": {},
   "outputs": [],
   "source": []
  }
 ],
 "metadata": {
  "kernelspec": {
   "display_name": "Python 3 (ipykernel)",
   "language": "python",
   "name": "python3"
  },
  "language_info": {
   "codemirror_mode": {
    "name": "ipython",
    "version": 3
   },
   "file_extension": ".py",
   "mimetype": "text/x-python",
   "name": "python",
   "nbconvert_exporter": "python",
   "pygments_lexer": "ipython3",
   "version": "3.11.7"
  }
 },
 "nbformat": 4,
 "nbformat_minor": 5
}
