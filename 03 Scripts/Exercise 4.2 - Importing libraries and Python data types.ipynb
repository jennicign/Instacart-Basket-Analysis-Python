{
 "cells": [
  {
   "cell_type": "markdown",
   "id": "6290b456-4001-4fc2-aa8a-a94a6d407589",
   "metadata": {},
   "source": [
    "# Exercise 4.2 Importing Libraries and Python Data Types"
   ]
  },
  {
   "cell_type": "markdown",
   "id": "d3aa9df0-5f15-4043-8f62-efc52156e653",
   "metadata": {},
   "source": [
    "## Contents:"
   ]
  },
  {
   "cell_type": "markdown",
   "id": "517da41e-b6e4-4019-9187-a744c79aead8",
   "metadata": {},
   "source": [
    "### 01. Importing Libraries"
   ]
  },
  {
   "cell_type": "markdown",
   "id": "b2c7c1df-4adb-416b-9a5e-ac2eb83574a1",
   "metadata": {},
   "source": [
    "### 02. Working with Python Data Types"
   ]
  },
  {
   "cell_type": "markdown",
   "id": "04e63edd-1b30-4560-b306-98303548248d",
   "metadata": {},
   "source": [
    "### Bonus Task"
   ]
  },
  {
   "cell_type": "markdown",
   "id": "5827c743-4cd0-4abc-9434-82ebc6467b27",
   "metadata": {},
   "source": [
    "# 01. Importing Libraries"
   ]
  },
  {
   "cell_type": "code",
   "execution_count": 1,
   "id": "6c9d0116-62c3-4c56-936e-56f5814f8d70",
   "metadata": {},
   "outputs": [],
   "source": [
    "#import libraries\n",
    "import pandas as pd\n",
    "import numpy as np\n",
    "import os"
   ]
  },
  {
   "cell_type": "markdown",
   "id": "8bbbcfa9-5aba-458c-953f-45e83291fe13",
   "metadata": {},
   "source": [
    "# 02. Working with Python Data Types"
   ]
  },
  {
   "cell_type": "markdown",
   "id": "96072709-ee05-41b4-b46c-131b55ff2c72",
   "metadata": {},
   "source": [
    "### Step 7"
   ]
  },
  {
   "cell_type": "code",
   "execution_count": 2,
   "id": "a0b8e3c2-03c5-4c56-9c55-682a113be1c4",
   "metadata": {},
   "outputs": [],
   "source": [
    "x = 75"
   ]
  },
  {
   "cell_type": "code",
   "execution_count": 3,
   "id": "fed9aa30-a183-4719-804a-d45a9664ed99",
   "metadata": {},
   "outputs": [],
   "source": [
    "y = 25"
   ]
  },
  {
   "cell_type": "code",
   "execution_count": 5,
   "id": "56fff6ad-eeb0-42fd-ba55-9a62e4929e99",
   "metadata": {},
   "outputs": [
    {
     "data": {
      "text/plain": [
       "100"
      ]
     },
     "execution_count": 5,
     "metadata": {},
     "output_type": "execute_result"
    }
   ],
   "source": [
    "x + y"
   ]
  },
  {
   "cell_type": "code",
   "execution_count": 6,
   "id": "fcd80810-2770-49e4-aeea-a3b6573da11b",
   "metadata": {},
   "outputs": [],
   "source": [
    "x = x + y"
   ]
  },
  {
   "cell_type": "code",
   "execution_count": 7,
   "id": "666f08cb-9377-4bbc-ae85-b867f2e185fc",
   "metadata": {},
   "outputs": [
    {
     "name": "stdout",
     "output_type": "stream",
     "text": [
      "100\n"
     ]
    }
   ],
   "source": [
    "print(x)"
   ]
  },
  {
   "cell_type": "code",
   "execution_count": 8,
   "id": "6a6de3fd-3479-41fe-81c6-88784c9f1a32",
   "metadata": {},
   "outputs": [
    {
     "data": {
      "text/plain": [
       "100"
      ]
     },
     "execution_count": 8,
     "metadata": {},
     "output_type": "execute_result"
    }
   ],
   "source": [
    "125 - y"
   ]
  },
  {
   "cell_type": "markdown",
   "id": "25f7b632-8d89-4dbc-be61-af3287b856ee",
   "metadata": {},
   "source": [
    "### Step 8"
   ]
  },
  {
   "cell_type": "code",
   "execution_count": 13,
   "id": "0ea0ba5b-46f5-4157-9104-e89be053ca6c",
   "metadata": {},
   "outputs": [],
   "source": [
    "a = 17.05262015"
   ]
  },
  {
   "cell_type": "code",
   "execution_count": 14,
   "id": "a1b7dd0e-17b1-4350-9fb9-e3ac3bd222f2",
   "metadata": {},
   "outputs": [],
   "source": [
    "b = 1.27"
   ]
  },
  {
   "cell_type": "code",
   "execution_count": 15,
   "id": "56da690d-90fd-4a68-b160-d28ec2049896",
   "metadata": {},
   "outputs": [
    {
     "data": {
      "text/plain": [
       "13.42725996062992"
      ]
     },
     "execution_count": 15,
     "metadata": {},
     "output_type": "execute_result"
    }
   ],
   "source": [
    "a / b"
   ]
  },
  {
   "cell_type": "code",
   "execution_count": 16,
   "id": "c8288538-9008-4291-ae17-64d481dcee16",
   "metadata": {},
   "outputs": [
    {
     "data": {
      "text/plain": [
       "0.0744753585565559"
      ]
     },
     "execution_count": 16,
     "metadata": {},
     "output_type": "execute_result"
    }
   ],
   "source": [
    "b / a"
   ]
  },
  {
   "cell_type": "markdown",
   "id": "484e281b-2191-4ded-b2cf-0a844a77e45e",
   "metadata": {},
   "source": [
    "### Step 9"
   ]
  },
  {
   "cell_type": "code",
   "execution_count": 18,
   "id": "aa397b94-fc67-4121-bb52-a7657894762d",
   "metadata": {},
   "outputs": [],
   "source": [
    "c = 'vine'"
   ]
  },
  {
   "cell_type": "code",
   "execution_count": 20,
   "id": "2d548a85-6ec6-4540-a51a-a315edefe4c5",
   "metadata": {},
   "outputs": [],
   "source": [
    "d = 'yard'"
   ]
  },
  {
   "cell_type": "code",
   "execution_count": 21,
   "id": "97101470-aab6-43b3-9224-de7b5a4da51b",
   "metadata": {},
   "outputs": [
    {
     "data": {
      "text/plain": [
       "'vineyard'"
      ]
     },
     "execution_count": 21,
     "metadata": {},
     "output_type": "execute_result"
    }
   ],
   "source": [
    "c + d"
   ]
  },
  {
   "cell_type": "code",
   "execution_count": 22,
   "id": "e5912cea-57c2-4e0f-a1ba-0a594e9f61d1",
   "metadata": {},
   "outputs": [],
   "source": [
    "e = 'basket'"
   ]
  },
  {
   "cell_type": "code",
   "execution_count": 23,
   "id": "77fe8e24-0c7a-4713-8e6c-1c89643d486c",
   "metadata": {},
   "outputs": [],
   "source": [
    "f = 'ball'"
   ]
  },
  {
   "cell_type": "code",
   "execution_count": 24,
   "id": "902190ef-d420-4841-81f4-607919b1ba17",
   "metadata": {},
   "outputs": [
    {
     "data": {
      "text/plain": [
       "'basketball'"
      ]
     },
     "execution_count": 24,
     "metadata": {},
     "output_type": "execute_result"
    }
   ],
   "source": [
    "e + f"
   ]
  },
  {
   "cell_type": "markdown",
   "id": "27ab77ba-b56d-4d10-909d-ac6807a33c54",
   "metadata": {},
   "source": [
    "### Step 10"
   ]
  },
  {
   "cell_type": "code",
   "execution_count": 25,
   "id": "31adead5-0761-4f9e-9097-658bd248ced9",
   "metadata": {},
   "outputs": [],
   "source": [
    "l = 'May the '"
   ]
  },
  {
   "cell_type": "code",
   "execution_count": 26,
   "id": "ca40403e-b9b0-4937-aeb0-afdd19ad55c3",
   "metadata": {},
   "outputs": [],
   "source": [
    "m = 'Force be '"
   ]
  },
  {
   "cell_type": "code",
   "execution_count": 27,
   "id": "d6bbd3b4-89f5-44fd-b998-9d32a9e65493",
   "metadata": {},
   "outputs": [],
   "source": [
    "n = 'with you.'"
   ]
  },
  {
   "cell_type": "code",
   "execution_count": 28,
   "id": "c87f7880-94ca-4906-ba54-c6501a0a8cab",
   "metadata": {},
   "outputs": [
    {
     "data": {
      "text/plain": [
       "'May the Force be with you.'"
      ]
     },
     "execution_count": 28,
     "metadata": {},
     "output_type": "execute_result"
    }
   ],
   "source": [
    "l + m + n"
   ]
  },
  {
   "cell_type": "code",
   "execution_count": 29,
   "id": "20d01a97-c7e4-41f2-b234-b73bb483e15f",
   "metadata": {},
   "outputs": [],
   "source": [
    "j = 'Master has presented Dobby with clothes.'"
   ]
  },
  {
   "cell_type": "code",
   "execution_count": 30,
   "id": "f12e8847-2e8d-496e-84e5-b6bf90b60f5e",
   "metadata": {},
   "outputs": [],
   "source": [
    "k = ' Dobby is...free!'"
   ]
  },
  {
   "cell_type": "code",
   "execution_count": 31,
   "id": "a57e4321-fd16-4987-bfd1-ae6639e9a4fe",
   "metadata": {},
   "outputs": [
    {
     "data": {
      "text/plain": [
       "'Master has presented Dobby with clothes! Dobby is...free!'"
      ]
     },
     "execution_count": 31,
     "metadata": {},
     "output_type": "execute_result"
    }
   ],
   "source": [
    "j + k"
   ]
  },
  {
   "cell_type": "markdown",
   "id": "cbc10beb-fa5a-4163-9625-ff6fe4a95255",
   "metadata": {},
   "source": [
    "### Bonus task"
   ]
  },
  {
   "cell_type": "code",
   "execution_count": 33,
   "id": "14ff2eae-8f6b-490a-b009-d393a2150cf7",
   "metadata": {},
   "outputs": [],
   "source": [
    "s = 'flower '"
   ]
  },
  {
   "cell_type": "code",
   "execution_count": 34,
   "id": "ba7a79f1-c0a4-4b90-a517-56da71e6471b",
   "metadata": {},
   "outputs": [
    {
     "data": {
      "text/plain": [
       "'flower flower flower flower flower flower flower flower flower flower flower flower flower flower flower flower flower flower flower flower flower flower flower flower flower flower flower flower flower flower flower flower flower flower flower flower flower flower flower flower flower flower flower flower flower flower flower flower flower flower flower flower flower flower flower flower flower flower flower flower flower flower flower flower flower flower flower flower flower flower flower flower flower flower flower flower flower flower flower flower flower flower flower flower flower flower flower flower flower flower flower flower flower flower flower flower flower flower flower flower '"
      ]
     },
     "execution_count": 34,
     "metadata": {},
     "output_type": "execute_result"
    }
   ],
   "source": [
    "s * 100"
   ]
  },
  {
   "cell_type": "code",
   "execution_count": null,
   "id": "90ea30d5-2c2a-4a66-9e52-d80c0bc38ce4",
   "metadata": {},
   "outputs": [],
   "source": []
  }
 ],
 "metadata": {
  "kernelspec": {
   "display_name": "Python 3 (ipykernel)",
   "language": "python",
   "name": "python3"
  },
  "language_info": {
   "codemirror_mode": {
    "name": "ipython",
    "version": 3
   },
   "file_extension": ".py",
   "mimetype": "text/x-python",
   "name": "python",
   "nbconvert_exporter": "python",
   "pygments_lexer": "ipython3",
   "version": "3.11.7"
  }
 },
 "nbformat": 4,
 "nbformat_minor": 5
}
